{
  "nbformat": 4,
  "nbformat_minor": 0,
  "metadata": {
    "colab": {
      "provenance": [],
      "authorship_tag": "ABX9TyO1hpuQNfjcFXY3A3b0Wclm",
      "include_colab_link": true
    },
    "kernelspec": {
      "name": "python3",
      "display_name": "Python 3"
    },
    "language_info": {
      "name": "python"
    }
  },
  "cells": [
    {
      "cell_type": "markdown",
      "metadata": {
        "id": "view-in-github",
        "colab_type": "text"
      },
      "source": [
        "<a href=\"https://colab.research.google.com/github/akashsinghsharma/master-calc1-python/blob/main/Section_3_Functions.ipynb\" target=\"_parent\"><img src=\"https://colab.research.google.com/assets/colab-badge.svg\" alt=\"Open In Colab\"/></a>"
      ]
    },
    {
      "cell_type": "markdown",
      "source": [
        "Lec 7\n",
        "\n",
        "Goal of section:\n",
        "\n",
        "1. To look at a RANDOM function and understand it's general characterstics in brain.\n",
        "\n",
        "Why:\n",
        "Because even when random functions are not really much useful, it will help build foundational knowledge to build upon to work on functions used in data science, DL or other places."
      ],
      "metadata": {
        "id": "d8wj9F0CKr7i"
      }
    },
    {
      "cell_type": "markdown",
      "source": [
        "Lec 8\n",
        "\n",
        "Q. What is notation and why we use it?\n",
        "\n",
        "In python we use np.pi for [PI] maths symbol.\n",
        "\n",
        "Q. Math function vs python function (difference). Both are called functions but means different things."
      ],
      "metadata": {
        "id": "HvFJ9UXsP5x1"
      }
    },
    {
      "cell_type": "markdown",
      "source": [
        "Lec 9\n",
        "\n",
        "**9. What is a \"function\"?**\n",
        "\n",
        "Remember that maths function is different from python or coding function.\n",
        "\n",
        "An exp or rule that maps a variable onto another variable. f : x -> y i.e. function f maps x to y.\n",
        "\n",
        "f(x) = y is commonly used.\n",
        "\n",
        "- Dependent and independent variable\n",
        "- Note that one value of input x can give atmost one value of output y. (for eg circle aint really a function as there are two y on same x. This is a formal def on function.\n",
        "- You can do vertical line test to see if it is a function or not.\n",
        "- Infact y = root(x) is not formally a function.\n",
        "- Note that f and y are not same thing. f is set of rules that maps x to y, y is basically the output point.\n",
        "- There are different kind of function like polynomial, trignomertic, continous inverse and many many more."
      ],
      "metadata": {
        "id": "QiNM7rzzQq1z"
      }
    },
    {
      "cell_type": "markdown",
      "source": [
        "Lec 10. Domain and range of a function\n",
        "\n"
      ],
      "metadata": {
        "id": "uSsEuccCZZ29"
      }
    }
  ]
}