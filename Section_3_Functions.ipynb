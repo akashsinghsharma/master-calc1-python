{
  "nbformat": 4,
  "nbformat_minor": 0,
  "metadata": {
    "colab": {
      "provenance": [],
      "authorship_tag": "ABX9TyMI6VbZzxqdHBoIyZLhEuLA",
      "include_colab_link": true
    },
    "kernelspec": {
      "name": "python3",
      "display_name": "Python 3"
    },
    "language_info": {
      "name": "python"
    }
  },
  "cells": [
    {
      "cell_type": "markdown",
      "metadata": {
        "id": "view-in-github",
        "colab_type": "text"
      },
      "source": [
        "<a href=\"https://colab.research.google.com/github/akashsinghsharma/master-calc1-python/blob/main/Section_3_Functions.ipynb\" target=\"_parent\"><img src=\"https://colab.research.google.com/assets/colab-badge.svg\" alt=\"Open In Colab\"/></a>"
      ]
    },
    {
      "cell_type": "markdown",
      "source": [
        "Lec 7\n",
        "\n",
        "Goal of section:\n",
        "\n",
        "1. To look at a RANDOM function and understand it's general characterstics in brain.\n",
        "\n",
        "Why:\n",
        "Because even when random functions are not really much useful, it will help build foundational knowledge to build upon to work on functions used in data science, DL or other places."
      ],
      "metadata": {
        "id": "d8wj9F0CKr7i"
      }
    },
    {
      "cell_type": "markdown",
      "source": [
        "Lec 8\n",
        "\n",
        "Q. What is notation and why we use it?\n",
        "\n",
        "In python we use np.pi for [PI] maths symbol.\n",
        "\n",
        "Q. Math function vs python function (difference). Both are called functions but means different things."
      ],
      "metadata": {
        "id": "HvFJ9UXsP5x1"
      }
    },
    {
      "cell_type": "markdown",
      "source": [
        "Lec 9\n",
        "\n",
        "**9. What is a \"function\"?**"
      ],
      "metadata": {
        "id": "QiNM7rzzQq1z"
      }
    }
  ]
}